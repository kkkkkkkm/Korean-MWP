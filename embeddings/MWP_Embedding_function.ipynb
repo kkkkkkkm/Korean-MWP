{
 "cells": [
  {
   "cell_type": "code",
   "execution_count": 1,
   "id": "5c88113b",
   "metadata": {},
   "outputs": [],
   "source": [
    "import re\n",
    "import pandas as pd\n",
    "import json\n",
    "from konlpy.tag import Mecab\n",
    "#from tokenizers import BertWordPieceTokenizer\n",
    "import matplotlib.pyplot as plt\n",
    "import os"
   ]
  },
  {
   "cell_type": "code",
   "execution_count": 2,
   "id": "498086a7",
   "metadata": {},
   "outputs": [],
   "source": [
    "import nltk\n",
    "import numpy as np\n",
    "from gensim.models import Word2Vec\n",
    "from gensim.models import KeyedVectors\n",
    "import urllib.request\n",
    "from gensim.models import FastText\n",
    "from glove import Corpus, Glove\n",
    "import copy "
   ]
  },
  {
   "cell_type": "code",
   "execution_count": 3,
   "id": "b1242c37",
   "metadata": {},
   "outputs": [
    {
     "name": "stdout",
     "output_type": "stream",
     "text": [
      "CBOW_que_sample_44_type       SGNS_que_sample_44_type\r\n",
      "FastText_que_sample_44_type   gloveque_sample_44_type.txt\r\n",
      "MWP_Embedding_function.ipynb\r\n"
     ]
    }
   ],
   "source": [
    "ls"
   ]
  },
  {
   "cell_type": "code",
   "execution_count": 4,
   "id": "39609a82",
   "metadata": {},
   "outputs": [],
   "source": [
    "df = pd.read_csv('../data/train_44_type_150000.csv', header = None)"
   ]
  },
  {
   "cell_type": "code",
   "execution_count": 6,
   "id": "d75aa2ae",
   "metadata": {},
   "outputs": [],
   "source": [
    "df2 = pd.read_csv('../data/val_44_type_30000.csv', header = None)"
   ]
  },
  {
   "cell_type": "code",
   "execution_count": 33,
   "id": "53ab80a9",
   "metadata": {},
   "outputs": [
    {
     "data": {
      "text/html": [
       "<div>\n",
       "<style scoped>\n",
       "    .dataframe tbody tr th:only-of-type {\n",
       "        vertical-align: middle;\n",
       "    }\n",
       "\n",
       "    .dataframe tbody tr th {\n",
       "        vertical-align: top;\n",
       "    }\n",
       "\n",
       "    .dataframe thead th {\n",
       "        text-align: right;\n",
       "    }\n",
       "</style>\n",
       "<table border=\"1\" class=\"dataframe\">\n",
       "  <thead>\n",
       "    <tr style=\"text-align: right;\">\n",
       "      <th></th>\n",
       "      <th>0</th>\n",
       "      <th>1</th>\n",
       "    </tr>\n",
       "  </thead>\n",
       "  <tbody>\n",
       "    <tr>\n",
       "      <th>0</th>\n",
       "      <td>어떤 미지수에서 909를 뺐더니 73가 되었다면, 어떤 미지수는 얼마가 되겠습니까?</td>\n",
       "      <td>73 + 909</td>\n",
       "    </tr>\n",
       "    <tr>\n",
       "      <th>1</th>\n",
       "      <td>상현이가 책을 펼쳤는데 펼친 책의 두 쪽수의 합이 509이었다. 상현이가 펼친 책의...</td>\n",
       "      <td>((509-1)/2)+1</td>\n",
       "    </tr>\n",
       "    <tr>\n",
       "      <th>2</th>\n",
       "      <td>어떤 자연수에 35를 더한 후 28를 곱했습니다. 그 수에 30를 빼고 142로 나...</td>\n",
       "      <td>(((13*142)+30)/28)-35</td>\n",
       "    </tr>\n",
       "    <tr>\n",
       "      <th>3</th>\n",
       "      <td>자릿수가 세 개인 수의 덧셈식 'X5Z + 5Y0 = 942'에서 X에 해당하는 수...</td>\n",
       "      <td>(942 @ 100) - (500 @ 100) - (10-4+5+(10 - ((94...</td>\n",
       "    </tr>\n",
       "    <tr>\n",
       "      <th>4</th>\n",
       "      <td>616에 어떤 미지수를 나누어야 할 것을 잘못해서 30에 어떤 미지수를 나누었을 경...</td>\n",
       "      <td>616 * 825 / 30</td>\n",
       "    </tr>\n",
       "    <tr>\n",
       "      <th>...</th>\n",
       "      <td>...</td>\n",
       "      <td>...</td>\n",
       "    </tr>\n",
       "    <tr>\n",
       "      <th>29995</th>\n",
       "      <td>J, I, K는 자연수일 때 J를 8로 나누면 몫은 I이며, 나머지는 K가 된다. ...</td>\n",
       "      <td>(8 - 1) * 8 + (8 - 1)</td>\n",
       "    </tr>\n",
       "    <tr>\n",
       "      <th>29996</th>\n",
       "      <td>어떤 미지수에서 427를 더한 결과로 746가 나왔습니다. 본래의 어떤 미지수의 값...</td>\n",
       "      <td>746 - 427</td>\n",
       "    </tr>\n",
       "    <tr>\n",
       "      <th>29997</th>\n",
       "      <td>다영이는 스키 시합에서 861등을 했고, 상혁이는 859등을 했습니다. 윤호는 다영...</td>\n",
       "      <td>(859 + 861) / 2</td>\n",
       "    </tr>\n",
       "    <tr>\n",
       "      <th>29998</th>\n",
       "      <td>4개의 숫자 3, 4, 2, 5를 한번씩만 사용하여 세 자리 수를 만들려고 합니다....</td>\n",
       "      <td>fact(4) / fact(4 - 3)</td>\n",
       "    </tr>\n",
       "    <tr>\n",
       "      <th>29999</th>\n",
       "      <td>반지름의 길이가 889m인 원이 있습니다. 원의 둘레는 몇 m입니까?</td>\n",
       "      <td>2 * pi * 889</td>\n",
       "    </tr>\n",
       "  </tbody>\n",
       "</table>\n",
       "<p>30000 rows × 2 columns</p>\n",
       "</div>"
      ],
      "text/plain": [
       "                                                       0  \\\n",
       "0         어떤 미지수에서 909를 뺐더니 73가 되었다면, 어떤 미지수는 얼마가 되겠습니까?   \n",
       "1      상현이가 책을 펼쳤는데 펼친 책의 두 쪽수의 합이 509이었다. 상현이가 펼친 책의...   \n",
       "2      어떤 자연수에 35를 더한 후 28를 곱했습니다. 그 수에 30를 빼고 142로 나...   \n",
       "3      자릿수가 세 개인 수의 덧셈식 'X5Z + 5Y0 = 942'에서 X에 해당하는 수...   \n",
       "4      616에 어떤 미지수를 나누어야 할 것을 잘못해서 30에 어떤 미지수를 나누었을 경...   \n",
       "...                                                  ...   \n",
       "29995  J, I, K는 자연수일 때 J를 8로 나누면 몫은 I이며, 나머지는 K가 된다. ...   \n",
       "29996  어떤 미지수에서 427를 더한 결과로 746가 나왔습니다. 본래의 어떤 미지수의 값...   \n",
       "29997  다영이는 스키 시합에서 861등을 했고, 상혁이는 859등을 했습니다. 윤호는 다영...   \n",
       "29998  4개의 숫자 3, 4, 2, 5를 한번씩만 사용하여 세 자리 수를 만들려고 합니다....   \n",
       "29999             반지름의 길이가 889m인 원이 있습니다. 원의 둘레는 몇 m입니까?   \n",
       "\n",
       "                                                       1  \n",
       "0                                               73 + 909  \n",
       "1                                          ((509-1)/2)+1  \n",
       "2                                  (((13*142)+30)/28)-35  \n",
       "3      (942 @ 100) - (500 @ 100) - (10-4+5+(10 - ((94...  \n",
       "4                                         616 * 825 / 30  \n",
       "...                                                  ...  \n",
       "29995                              (8 - 1) * 8 + (8 - 1)  \n",
       "29996                                          746 - 427  \n",
       "29997                                    (859 + 861) / 2  \n",
       "29998                              fact(4) / fact(4 - 3)  \n",
       "29999                                       2 * pi * 889  \n",
       "\n",
       "[30000 rows x 2 columns]"
      ]
     },
     "execution_count": 33,
     "metadata": {},
     "output_type": "execute_result"
    }
   ],
   "source": [
    "df2"
   ]
  },
  {
   "cell_type": "markdown",
   "id": "2db114c8",
   "metadata": {},
   "source": [
    "## 질문 전처리 / stopwords 미처리 버전 실행"
   ]
  },
  {
   "cell_type": "code",
   "execution_count": 30,
   "id": "8db8018e",
   "metadata": {},
   "outputs": [
    {
     "name": "stdout",
     "output_type": "stream",
     "text": [
      "30000\n"
     ]
    }
   ],
   "source": [
    "list_que = []\n",
    "mecab= Mecab()\n",
    "for i in range(len(df2[0])):\n",
    "    list_que.append(len(mecab.morphs(df[0][i])))\n",
    "\n",
    "print(len(list_que))"
   ]
  },
  {
   "cell_type": "markdown",
   "id": "0253c8f8",
   "metadata": {},
   "source": [
    "## Stopwords 처리"
   ]
  },
  {
   "cell_type": "code",
   "execution_count": null,
   "id": "0256caa6",
   "metadata": {
    "scrolled": true
   },
   "outputs": [],
   "source": [
    "mecab = Mecab()\n",
    "list_que = []\n",
    "stopwords = ['은','?','일까요','십시오','입니까','인가요',\n",
    "             ',인지','한다면','가','다','에는','에서','기록', '순위',\n",
    "             '앉아', '로', '.','시','오', '습니다','인지','한다','여라', '똑같은'] \n",
    "df[0] = df[0].apply(mecab.morphs)\n",
    "df[0] = df[0].apply((lambda x : [item for item in x if item not in stopwords]))\n",
    "\n",
    "for i in range(len(df[0])):\n",
    "    list_que.append(df[0][i])\n",
    "\n",
    "print(len(list_que))"
   ]
  },
  {
   "cell_type": "code",
   "execution_count": null,
   "id": "54df6f9b",
   "metadata": {},
   "outputs": [],
   "source": [
    "from gensim.models.callbacks import CallbackAny2Vec\n",
    "\n",
    "class callback(CallbackAny2Vec): \n",
    "    \"\"\"Callback to print loss after each epoch.\"\"\" \n",
    "    def __init__(self): \n",
    "        self.epoch = 0 \n",
    "        self.loss_to_be_subed = 0 \n",
    "    \n",
    "    def on_epoch_end(self, model): \n",
    "        loss = model.get_latest_training_loss()\n",
    "        loss_now = loss - self.loss_to_be_subed \n",
    "        self.loss_to_be_subed = loss \n",
    "        print('Loss after epoch {}: {}'.format(self.epoch, loss_now)) \n",
    "        self.epoch += 1"
   ]
  },
  {
   "cell_type": "code",
   "execution_count": null,
   "id": "0a3bd60d",
   "metadata": {},
   "outputs": [],
   "source": [
    "def embedding_train(name, vocab_list):\n",
    "    \n",
    "    model = Word2Vec(sentences = vocab_list, vector_size=512, window= 6, min_count = 1, epochs = 30, \n",
    "                 compute_loss = True, workers = 4, sg= 0, hs = 1, callbacks =[callback()] )\n",
    "\n",
    "    print('---- CBOW Word Embedding is over')\n",
    "\n",
    "    model.wv.save_word2vec_format('CBOW_' + name)\n",
    "\n",
    "    model = Word2Vec(sentences = vocab_list, vector_size=512, window= 6, min_count = 1, workers = 4, sg= 1,\n",
    "                      negative = 10, compute_loss= True, hs = 1, epochs= 30, callbacks=[callback()])\n",
    "\n",
    "    print('---- SGNS Word Embedding is over')\n",
    "\n",
    "\n",
    "    model.wv.save_word2vec_format('SGNS_' + name)\n",
    "\n",
    "    model = FastText(sentences = vocab_list, vector_size = 512, window= 6, min_count= 1, workers= 4, \n",
    "                     sg = 1, epochs = 30, hs= 1, callbacks =[callback()])\n",
    "\n",
    "    print('---- FastText Word Embedding is over')\n",
    "\n",
    "\n",
    "    model.wv.save_word2vec_format('FastText_' + name)\n",
    "\n",
    "    corpus = Corpus()\n",
    "    corpus.fit(vocab_list, window = 6)\n",
    "    model = Glove(no_components= 512, learning_rate = 0.025)\n",
    "    model.fit(corpus.matrix, no_threads = 4, epochs = 30, verbose = True)\n",
    "    model.add_dictionary(corpus.dictionary)\n",
    "    sample_dict = copy.deepcopy(model.dictionary)\n",
    "\n",
    "    all_glove = [] ##\n",
    "    i = 0\n",
    "\n",
    "    for k in sample_dict.keys():\n",
    "        m = model.word_vectors[model.dictionary[k]].tolist() ## 원래는 glove_model.word_vectors[glove_model.dictionary[k]] 로 실행해야함. 해당 단어 벡터list로 변경\n",
    "        m.insert(0, k) ## list의 0번째에 해당단어 삽입\n",
    "        m = \" \".join(map(str, m)) ## 벡터값은 실수이고 단어는 str이라 join 타입이 맞지 않음 map 함수를 통해 \n",
    "        all_glove.append(m)\n",
    "\n",
    "    with open('glove' + name + '.txt' , 'w' ,encoding='UTF-8') as f: ## Glove 임베딩 벡터 저장\n",
    "        for nam in all_glove:\n",
    "            f.write(nam +'\\n')\n",
    "\n",
    "    print('---- GloVe Word Embedding is over')\n",
    "\n",
    "\n"
   ]
  },
  {
   "cell_type": "markdown",
   "id": "be9ea74f",
   "metadata": {},
   "source": [
    "## 문장형 문제의 단어 임베딩"
   ]
  },
  {
   "cell_type": "code",
   "execution_count": null,
   "id": "918212ee",
   "metadata": {},
   "outputs": [],
   "source": [
    "embedding_train('que_sample_44_type_512', list_que)"
   ]
  },
  {
   "cell_type": "markdown",
   "id": "39ab326a",
   "metadata": {},
   "source": [
    "## 식 임베딩 (MWP Solver 설계에서는 필요하지 않음)"
   ]
  },
  {
   "cell_type": "code",
   "execution_count": null,
   "id": "236c9e34",
   "metadata": {},
   "outputs": [],
   "source": [
    "embedding_train('Equ_sample', list_equ)"
   ]
  },
  {
   "cell_type": "code",
   "execution_count": null,
   "id": "28496201",
   "metadata": {},
   "outputs": [],
   "source": [
    "load_equ = KeyedVectors.load_word2vec_format('FastText_Equ_sample')"
   ]
  },
  {
   "cell_type": "code",
   "execution_count": null,
   "id": "80e781ac",
   "metadata": {
    "scrolled": true
   },
   "outputs": [],
   "source": [
    "load_equ.most_similar(\")\")"
   ]
  },
  {
   "cell_type": "code",
   "execution_count": null,
   "id": "263965ec",
   "metadata": {},
   "outputs": [],
   "source": [
    "embedding = ['CBOW_Equ_sample','FastText_Equ_sample', 'SGNS_Equ_sample']\n",
    "for i in embedding:\n",
    "    print(i)\n",
    "    load_equ = KeyedVectors.load_word2vec_format(i)\n",
    "    print(load_equ.most_similar(\"(\"))"
   ]
  },
  {
   "cell_type": "code",
   "execution_count": null,
   "id": "2b737936",
   "metadata": {},
   "outputs": [],
   "source": [
    "embedding = ['CBOW_MWP_sample','FastText_MWP_sample', 'SGNS_MWP_sample']\n",
    "for i in embedding:\n",
    "    print(i)\n",
    "    load_equ = KeyedVectors.load_word2vec_format(i)\n",
    "    print(load_equ.most_similar(\"(\"))"
   ]
  },
  {
   "cell_type": "code",
   "execution_count": null,
   "id": "66e4e243",
   "metadata": {},
   "outputs": [],
   "source": [
    "load_que = KeyedVectors.load_word2vec_format('FastText_MWP_sample')"
   ]
  },
  {
   "cell_type": "code",
   "execution_count": null,
   "id": "295f9741",
   "metadata": {},
   "outputs": [],
   "source": [
    "load_que.most_similar(\"다면\")"
   ]
  },
  {
   "cell_type": "code",
   "execution_count": null,
   "id": "875f35d8",
   "metadata": {
    "scrolled": true
   },
   "outputs": [],
   "source": [
    "print(len(kor_que))\n",
    "print(len(equ_))"
   ]
  },
  {
   "cell_type": "code",
   "execution_count": null,
   "id": "c444de67",
   "metadata": {},
   "outputs": [],
   "source": [
    "from collections import Counter\n",
    "kor_que = Counter(np.hstack(list_que))\n",
    "print(kor_que.most_common(30))"
   ]
  },
  {
   "cell_type": "code",
   "execution_count": null,
   "id": "7aaf6951",
   "metadata": {},
   "outputs": [],
   "source": [
    "print(kor_que.most_common(100))"
   ]
  },
  {
   "cell_type": "code",
   "execution_count": null,
   "id": "9f161586",
   "metadata": {
    "scrolled": true
   },
   "outputs": [],
   "source": [
    "equ_ = Counter(np.hstack(list_equ))\n",
    "print(equ_.most_common(20))"
   ]
  },
  {
   "cell_type": "code",
   "execution_count": null,
   "id": "02475ced",
   "metadata": {
    "scrolled": true
   },
   "outputs": [],
   "source": [
    "corpus = Corpus()\n",
    "corpus.fit(list_equ, window = 6)\n",
    "model = Glove(no_components= 256, learning_rate = 0.025)\n",
    "model.fit(corpus.matrix, no_threads = 4, epochs = 30, verbose = True)\n",
    "model.add_dictionary(corpus.dictionary)\n",
    "sample_dict = copy.deepcopy(model.dictionary)\n",
    "\n",
    "\n",
    "model.most_similar(\"i\")"
   ]
  },
  {
   "cell_type": "code",
   "execution_count": null,
   "id": "40f3a785",
   "metadata": {
    "scrolled": true
   },
   "outputs": [],
   "source": [
    "model.most_similar(\"+\", number = 100)"
   ]
  }
 ],
 "metadata": {
  "kernelspec": {
   "display_name": "Python 3 (ipykernel)",
   "language": "python",
   "name": "python3"
  },
  "language_info": {
   "codemirror_mode": {
    "name": "ipython",
    "version": 3
   },
   "file_extension": ".py",
   "mimetype": "text/x-python",
   "name": "python",
   "nbconvert_exporter": "python",
   "pygments_lexer": "ipython3",
   "version": "3.8.12"
  }
 },
 "nbformat": 4,
 "nbformat_minor": 5
}
